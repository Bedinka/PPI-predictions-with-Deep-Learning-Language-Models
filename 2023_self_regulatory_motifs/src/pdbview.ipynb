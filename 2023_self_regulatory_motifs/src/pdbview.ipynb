{
 "cells": [
  {
   "cell_type": "code",
   "execution_count": 1,
   "id": "d171728f",
   "metadata": {},
   "outputs": [
    {
     "name": "stdout",
     "output_type": "stream",
     "text": [
      "4\n"
     ]
    }
   ],
   "source": [
    "## Random color names\n",
    "import random\n",
    "import webcolors\n",
    "\n",
    "CSS_COLOR_NAMES = list(webcolors.CSS3_NAMES_TO_HEX.keys())\n",
    "\n",
    "def generate_random_colors(size):\n",
    "    colors = []\n",
    "    generated_colors = set()\n",
    "    while len(colors) < size:\n",
    "        color = random.choice(CSS_COLOR_NAMES)\n",
    "        if color in generated_colors:\n",
    "            continue\n",
    "        hex = webcolors.CSS3_NAMES_TO_HEX[color]\n",
    "        rgb = webcolors.hex_to_rgb(hex)\n",
    "        if sum(rgb) > 500: # check if the color is too close to white\n",
    "            continue\n",
    "        colors.append(color)\n",
    "        generated_colors.add(color)\n",
    "    return colors\n",
    "\n",
    "print('4')"
   ]
  },
  {
   "cell_type": "code",
   "execution_count": 2,
   "id": "a9c8017d",
   "metadata": {
    "scrolled": false,
    "tags": []
   },
   "outputs": [
    {
     "data": {
      "application/vnd.jupyter.widget-view+json": {
       "model_id": "ba8aaf935afd49a5b9b6f3ab7d998704",
       "version_major": 2,
       "version_minor": 0
      },
      "text/plain": []
     },
     "metadata": {},
     "output_type": "display_data"
    },
    {
     "data": {
      "application/vnd.jupyter.widget-view+json": {
       "model_id": "1fa8e97fd0e446a7a3c01e9e65fe0e95",
       "version_major": 2,
       "version_minor": 0
      },
      "text/plain": [
       "VBox(children=(Dropdown(description='Color scheme', options=('PF13561.9', 'PF00106.28'), value='PF13561.9'), N…"
      ]
     },
     "metadata": {},
     "output_type": "display_data"
    }
   ],
   "source": [
    "import nglview\n",
    "import csv\n",
    "import ipywidgets as widgets\n",
    "\n",
    "species = 'SwissProt'\n",
    "table = open('../'+species+'/'+species+'_results.csv', 'r')\n",
    "reader = csv.DictReader(table)\n",
    "\n",
    "pdb = \"AF-A0A023I4C8-F1-model_v4\"\n",
    "path = \"/home/roger/2023_self_regulatory_motifs/\"+species+\"/data/\"+pdb+\".pdb\"\n",
    "view = nglview.show_file(path)\n",
    "\n",
    "color_dict = {}\n",
    "for row in reader:\n",
    "    newpdb = row['PDB']\n",
    "    if newpdb != pdb:\n",
    "        continue\n",
    "    if row['Domain'] not in color_dict.keys():\n",
    "        color_dict[row['Domain']] = []\n",
    "    \n",
    "    domainPos = row['Domain N-term']+'-'+row['Domain C-term']\n",
    "    dom_color = ['', domainPos]\n",
    "    color_dict[row['Domain']].append(dom_color)\n",
    "    \n",
    "    motifPos = row['Motif N-term']+'-'+row['Motif C-term']\n",
    "    motif_color = ['', motifPos]\n",
    "    color_dict[row['Domain']].append(motif_color)\n",
    "\n",
    "for k in color_dict.keys():\n",
    "    colors = generate_random_colors(len(color_dict[k]))\n",
    "    for i in range(len(color_dict[k])):\n",
    "        color_dict[k][i][0] = colors[i]\n",
    "\n",
    "# Define a function to change the color scheme\n",
    "def change_color_scheme(scheme_name):\n",
    "    colors = color_dict[scheme_name]\n",
    "    color_scheme = nglview.color._ColorScheme(\n",
    "            colors,\n",
    "            scheme_name\n",
    "        )\n",
    "    view.clear()\n",
    "    view.add_cartoon(color=color_scheme)\n",
    "\n",
    "# Create a dropdown widget with the color scheme names\n",
    "scheme_names = list(color_dict.keys())\n",
    "dropdown = widgets.Dropdown(options=scheme_names, description='Color scheme')\n",
    "\n",
    "# Call the `change_color_scheme` function when the dropdown value changes\n",
    "dropdown.observe(lambda change: change_color_scheme(change['new']), names='value')\n",
    "\n",
    "# Display the dropdown widget and the NGL widget\n",
    "widgets.VBox([dropdown, view])\n"
   ]
  },
  {
   "cell_type": "code",
   "execution_count": 12,
   "id": "6205032d",
   "metadata": {},
   "outputs": [],
   "source": [
    "## Saving the view\n",
    "# nglview.write_html('AF-P49137-F1-model_v4.html', [view]) \n"
   ]
  }
 ],
 "metadata": {
  "kernelspec": {
   "display_name": "Python 3 (ipykernel)",
   "language": "python",
   "name": "python3"
  },
  "language_info": {
   "codemirror_mode": {
    "name": "ipython",
    "version": 3
   },
   "file_extension": ".py",
   "mimetype": "text/x-python",
   "name": "python",
   "nbconvert_exporter": "python",
   "pygments_lexer": "ipython3",
   "version": "3.10.6"
  },
  "vscode": {
   "interpreter": {
    "hash": "1f0c4aba431e30a22bb8bc06580edfe8dbd3576238def4d3b6ab444b2b866a93"
   }
  }
 },
 "nbformat": 4,
 "nbformat_minor": 5
}
