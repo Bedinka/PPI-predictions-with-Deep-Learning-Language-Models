{
 "cells": [
  {
   "cell_type": "code",
   "execution_count": 4,
   "id": "d171728f",
   "metadata": {},
   "outputs": [
    {
     "name": "stdout",
     "output_type": "stream",
     "text": [
      "4\n"
     ]
    }
   ],
   "source": [
    "## Random color names\n",
    "import random\n",
    "import webcolors\n",
    "\n",
    "CSS_COLOR_NAMES = list(webcolors.CSS3_NAMES_TO_HEX.keys())\n",
    "\n",
    "def generate_random_colors(size):\n",
    "    colors = []\n",
    "    generated_colors = set()\n",
    "    while len(colors) < size:\n",
    "        color = random.choice(CSS_COLOR_NAMES)\n",
    "        if color in generated_colors:\n",
    "            continue\n",
    "        hex = webcolors.CSS3_NAMES_TO_HEX[color]\n",
    "        rgb = webcolors.hex_to_rgb(hex)\n",
    "        if sum(rgb) > 500: # check if the color is too close to white\n",
    "            continue\n",
    "        colors.append(color)\n",
    "        generated_colors.add(color)\n",
    "    return colors\n",
    "\n",
    "print('4')"
   ]
  },
  {
   "cell_type": "code",
   "execution_count": 5,
   "id": "a9c8017d",
   "metadata": {
    "scrolled": false,
    "tags": []
   },
   "outputs": [
    {
     "name": "stdout",
     "output_type": "stream",
     "text": [
      "[['darkorange', '156-339'], ['orangered', '110-118'], ['mediumorchid', '156-339'], ['gold', '362-369'], ['darkmagenta', '156-339'], ['slategray', '382-386'], ['darkslategrey', '821-971'], ['crimson', '799-807'], ['lightslategray', '821-971'], ['darkolivegreen', '995-999']]\n"
     ]
    },
    {
     "data": {
      "application/vnd.jupyter.widget-view+json": {
       "model_id": "87d71dc0571b4791b9f2ecf1fe6ca6ba",
       "version_major": 2,
       "version_minor": 0
      },
      "text/plain": [
       "NGLWidget()"
      ]
     },
     "metadata": {},
     "output_type": "display_data"
    }
   ],
   "source": [
    "## PDB Structure with colored domains\n",
    "import nglview\n",
    "import csv\n",
    "import os\n",
    "\n",
    "species = 'Arabidopsis_thaliana'\n",
    "table = open('../'+species+'/'+species+'_results.csv', 'r')\n",
    "reader = csv.DictReader(table)\n",
    "\n",
    "\n",
    "pdb = \"AF-Q7PC82-F1-model_v4\"\n",
    "path = \"/home/roger/2023_self_regulatory_motifs/\"+species+\"/data/\"+pdb+\".pdb\"\n",
    "view = nglview.show_file(path)\n",
    "\n",
    "color_list = []\n",
    "for row in reader:\n",
    "    newpdb = row['PDB']\n",
    "    if newpdb != pdb:\n",
    "        continue\n",
    "    domainPos = row['Domain N-term']+'-'+row['Domain C-term']\n",
    "    dom_color = ['', domainPos]\n",
    "    color_list.append(dom_color)\n",
    "    motifPos = row['Motif N-term']+'-'+row['Motif C-term']\n",
    "    motif_color = ['', motifPos]\n",
    "    color_list.append(motif_color)\n",
    "\n",
    "colors = generate_random_colors(len(color_list))\n",
    "for i in range(len(color_list)):\n",
    "    color_list[i][0] = colors[i]\n",
    "\n",
    "print(color_list)\n",
    "\n",
    "scheme = nglview.color._ColorScheme(color_list, 'test_color')\n",
    "view.clear()\n",
    "view.add_cartoon(color=scheme)\n",
    "view"
   ]
  },
  {
   "cell_type": "code",
   "execution_count": 6,
   "id": "6205032d",
   "metadata": {},
   "outputs": [],
   "source": [
    "## Saving the view\n",
    "nglview.write_html('index.html', [view]) "
   ]
  }
 ],
 "metadata": {
  "kernelspec": {
   "display_name": "Python 3 (ipykernel)",
   "language": "python",
   "name": "python3"
  },
  "vscode": {
   "interpreter": {
    "hash": "1f0c4aba431e30a22bb8bc06580edfe8dbd3576238def4d3b6ab444b2b866a93"
   }
  }
 },
 "nbformat": 4,
 "nbformat_minor": 5
}
