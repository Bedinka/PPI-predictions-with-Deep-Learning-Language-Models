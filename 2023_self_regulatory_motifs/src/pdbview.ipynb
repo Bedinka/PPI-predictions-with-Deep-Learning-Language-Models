{
 "cells": [
  {
   "cell_type": "code",
   "execution_count": 13,
   "id": "d171728f",
   "metadata": {},
   "outputs": [
    {
     "name": "stdout",
     "output_type": "stream",
     "text": [
      "4\n"
     ]
    }
   ],
   "source": [
    "import random\n",
    "import webcolors\n",
    "\n",
    "CSS_COLOR_NAMES = list(webcolors.CSS3_HEX_TO_NAMES.keys())\n",
    "\n",
    "def generate_random_colors(size):\n",
    "    return random.sample(CSS_COLOR_NAMES, size)\n",
    "print('4')"
   ]
  },
  {
   "cell_type": "code",
   "execution_count": 24,
   "id": "a9c8017d",
   "metadata": {},
   "outputs": [
    {
     "data": {
      "application/vnd.jupyter.widget-view+json": {
       "model_id": "48b655ddecfe4b0dace37c71efc75291",
       "version_major": 2,
       "version_minor": 0
      },
      "text/plain": [
       "NGLWidget()"
      ]
     },
     "metadata": {},
     "output_type": "display_data"
    }
   ],
   "source": [
    "import nglview\n",
    "import csv\n",
    "import os\n",
    "\n",
    "species = 'Arabidopsis_thaliana'\n",
    "table = open('../'+species+'/'+species+'_results.csv', 'r')\n",
    "reader = csv.DictReader(table)\n",
    "\n",
    "\n",
    "pdb = \"AF-Q7PC82-F1-model_v4\"\n",
    "path = \"/home/roger/2023_self_regulatory_motifs/\"+species+\"/data/\"+pdb+\".pdb\"\n",
    "view = nglview.show_file(path)\n",
    "\n",
    "# color_list = []\n",
    "# for row in reader:\n",
    "#     newpdb = row['PDB']\n",
    "#     if newpdb != pdb:\n",
    "#         continue\n",
    "#     domainPos = row['Domain N-term']+'-'+row['Domain C-term']\n",
    "#     dom_color = ['', domainPos]\n",
    "#     color_list.append(dom_color)\n",
    "#     motifPos = row['Motif N-term']+'-'+row['Motif C-term']\n",
    "#     motif_color = ['', motifPos]\n",
    "#     color_list.append(motif_color)\n",
    "\n",
    "# colors = generate_random_colors(len(color_list))\n",
    "# for i in range(len(color_list)):\n",
    "#     color_list[i][0] = colors[i]\n",
    "\n",
    "# print(color_list)\n",
    "scheme = nglview.color._ColorScheme([\n",
    "    ['red', '1-50'],\n",
    "    ['blue', '200-220']\n",
    "    ], 'test_color')\n",
    "\n",
    "view.color_by(scheme)\n",
    "view"
   ]
  }
 ],
 "metadata": {
  "kernelspec": {
   "display_name": "Python 3 (ipykernel)",
   "language": "python",
   "name": "python3"
  },
  "language_info": {
   "codemirror_mode": {
    "name": "ipython",
    "version": 3
   },
   "file_extension": ".py",
   "mimetype": "text/x-python",
   "name": "python",
   "nbconvert_exporter": "python",
   "pygments_lexer": "ipython3",
   "version": "3.10.6"
  },
  "vscode": {
   "interpreter": {
    "hash": "1f0c4aba431e30a22bb8bc06580edfe8dbd3576238def4d3b6ab444b2b866a93"
   }
  }
 },
 "nbformat": 4,
 "nbformat_minor": 5
}
