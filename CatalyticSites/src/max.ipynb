%matplotlib inline
import pandas as pd  
import matplotlib as mpl 
import matplotlib.pyplot as plt 

df = pd.read_csv('out.csv')
df.Role.describe()
# role 중에서 max
dd = df.sort_values(by=['Role','Count'])

b=[]
for i in range(53) :
    b.append(dd[i*21-1:i*21])

b
